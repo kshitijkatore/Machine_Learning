{
  "nbformat": 4,
  "nbformat_minor": 0,
  "metadata": {
    "colab": {
      "provenance": [],
      "authorship_tag": "ABX9TyMA8QBd8GNMfvkZT8I8RgNv",
      "include_colab_link": true
    },
    "kernelspec": {
      "name": "python3",
      "display_name": "Python 3"
    },
    "language_info": {
      "name": "python"
    }
  },
  "cells": [
    {
      "cell_type": "markdown",
      "metadata": {
        "id": "view-in-github",
        "colab_type": "text"
      },
      "source": [
        "<a href=\"https://colab.research.google.com/github/kshitijkatore/Machine_Learning/blob/main/stock_trend_prediction.ipynb\" target=\"_parent\"><img src=\"https://colab.research.google.com/assets/colab-badge.svg\" alt=\"Open In Colab\"/></a>"
      ]
    },
    {
      "cell_type": "code",
      "source": [
        "!pip install yfinance"
      ],
      "metadata": {
        "colab": {
          "base_uri": "https://localhost:8080/",
          "height": 991
        },
        "id": "RuX0lCLwE7ef",
        "outputId": "28744ed9-509e-430e-eb8e-93acd3dd6d6a"
      },
      "execution_count": null,
      "outputs": [
        {
          "output_type": "stream",
          "name": "stdout",
          "text": [
            "Looking in indexes: https://pypi.org/simple, https://us-python.pkg.dev/colab-wheels/public/simple/\n",
            "Collecting yfinance\n",
            "  Downloading yfinance-0.2.3-py2.py3-none-any.whl (50 kB)\n",
            "\u001b[K     |████████████████████████████████| 50 kB 3.2 MB/s \n",
            "\u001b[?25hCollecting frozendict>=2.3.4\n",
            "  Downloading frozendict-2.3.4-cp38-cp38-manylinux_2_17_x86_64.manylinux2014_x86_64.whl (110 kB)\n",
            "\u001b[K     |████████████████████████████████| 110 kB 10.1 MB/s \n",
            "\u001b[?25hRequirement already satisfied: pytz>=2022.5 in /usr/local/lib/python3.8/dist-packages (from yfinance) (2022.6)\n",
            "Requirement already satisfied: appdirs>=1.4.4 in /usr/local/lib/python3.8/dist-packages (from yfinance) (1.4.4)\n",
            "Collecting cryptography>=3.3.2\n",
            "  Downloading cryptography-38.0.4-cp36-abi3-manylinux_2_24_x86_64.whl (4.0 MB)\n",
            "\u001b[K     |████████████████████████████████| 4.0 MB 47.6 MB/s \n",
            "\u001b[?25hCollecting requests>=2.26\n",
            "  Downloading requests-2.28.1-py3-none-any.whl (62 kB)\n",
            "\u001b[K     |████████████████████████████████| 62 kB 1.5 MB/s \n",
            "\u001b[?25hRequirement already satisfied: pandas>=1.3.0 in /usr/local/lib/python3.8/dist-packages (from yfinance) (1.3.5)\n",
            "Requirement already satisfied: multitasking>=0.0.7 in /usr/local/lib/python3.8/dist-packages (from yfinance) (0.0.11)\n",
            "Collecting html5lib>=1.1\n",
            "  Downloading html5lib-1.1-py2.py3-none-any.whl (112 kB)\n",
            "\u001b[K     |████████████████████████████████| 112 kB 25.5 MB/s \n",
            "\u001b[?25hRequirement already satisfied: numpy>=1.16.5 in /usr/local/lib/python3.8/dist-packages (from yfinance) (1.21.6)\n",
            "Requirement already satisfied: lxml>=4.9.1 in /usr/local/lib/python3.8/dist-packages (from yfinance) (4.9.2)\n",
            "Collecting beautifulsoup4>=4.11.1\n",
            "  Downloading beautifulsoup4-4.11.1-py3-none-any.whl (128 kB)\n",
            "\u001b[K     |████████████████████████████████| 128 kB 53.4 MB/s \n",
            "\u001b[?25hCollecting soupsieve>1.2\n",
            "  Downloading soupsieve-2.3.2.post1-py3-none-any.whl (37 kB)\n",
            "Requirement already satisfied: cffi>=1.12 in /usr/local/lib/python3.8/dist-packages (from cryptography>=3.3.2->yfinance) (1.15.1)\n",
            "Requirement already satisfied: pycparser in /usr/local/lib/python3.8/dist-packages (from cffi>=1.12->cryptography>=3.3.2->yfinance) (2.21)\n",
            "Requirement already satisfied: six>=1.9 in /usr/local/lib/python3.8/dist-packages (from html5lib>=1.1->yfinance) (1.15.0)\n",
            "Requirement already satisfied: webencodings in /usr/local/lib/python3.8/dist-packages (from html5lib>=1.1->yfinance) (0.5.1)\n",
            "Requirement already satisfied: python-dateutil>=2.7.3 in /usr/local/lib/python3.8/dist-packages (from pandas>=1.3.0->yfinance) (2.8.2)\n",
            "Requirement already satisfied: idna<4,>=2.5 in /usr/local/lib/python3.8/dist-packages (from requests>=2.26->yfinance) (2.10)\n",
            "Requirement already satisfied: charset-normalizer<3,>=2 in /usr/local/lib/python3.8/dist-packages (from requests>=2.26->yfinance) (2.1.1)\n",
            "Requirement already satisfied: certifi>=2017.4.17 in /usr/local/lib/python3.8/dist-packages (from requests>=2.26->yfinance) (2022.12.7)\n",
            "Requirement already satisfied: urllib3<1.27,>=1.21.1 in /usr/local/lib/python3.8/dist-packages (from requests>=2.26->yfinance) (1.24.3)\n",
            "Installing collected packages: soupsieve, requests, html5lib, frozendict, cryptography, beautifulsoup4, yfinance\n",
            "  Attempting uninstall: requests\n",
            "    Found existing installation: requests 2.23.0\n",
            "    Uninstalling requests-2.23.0:\n",
            "      Successfully uninstalled requests-2.23.0\n",
            "  Attempting uninstall: html5lib\n",
            "    Found existing installation: html5lib 1.0.1\n",
            "    Uninstalling html5lib-1.0.1:\n",
            "      Successfully uninstalled html5lib-1.0.1\n",
            "  Attempting uninstall: beautifulsoup4\n",
            "    Found existing installation: beautifulsoup4 4.6.3\n",
            "    Uninstalling beautifulsoup4-4.6.3:\n",
            "      Successfully uninstalled beautifulsoup4-4.6.3\n",
            "Successfully installed beautifulsoup4-4.11.1 cryptography-38.0.4 frozendict-2.3.4 html5lib-1.1 requests-2.28.1 soupsieve-2.3.2.post1 yfinance-0.2.3\n"
          ]
        },
        {
          "output_type": "display_data",
          "data": {
            "application/vnd.colab-display-data+json": {
              "pip_warning": {
                "packages": [
                  "requests"
                ]
              }
            }
          },
          "metadata": {}
        }
      ]
    },
    {
      "cell_type": "code",
      "source": [
        "import numpy as np\n",
        "import pandas as pd\n",
        "import matplotlib.pyplot as plt\n",
        "import pandas_datareader as data\n",
        "import yfinance as yf\n"
      ],
      "metadata": {
        "id": "NSZkS0TY12jI"
      },
      "execution_count": null,
      "outputs": []
    },
    {
      "cell_type": "code",
      "source": [
        "start = '2010-01-01'\n",
        "end = '2019-12-31'\n",
        "hist = yf.Ticker('AAPL')\n",
        "df = hist.history(period=\"20y\", auto_adjust=\"True\")\n",
        "df.head()\n",
        "df"
      ],
      "metadata": {
        "id": "dbQ4iIHj8RTN",
        "colab": {
          "base_uri": "https://localhost:8080/",
          "height": 1000
        },
        "outputId": "0c3a1259-b3fb-4ed8-d79b-a5e5e705a86f"
      },
      "execution_count": null,
      "outputs": [
        {
          "output_type": "execute_result",
          "data": {
            "text/plain": [
              "                                 Open        High         Low       Close  \\\n",
              "Date                                                                        \n",
              "2002-12-23 00:00:00-05:00    0.215540    0.221476    0.214931    0.220563   \n",
              "2002-12-24 00:00:00-05:00    0.219802    0.220259    0.217671    0.218585   \n",
              "2002-12-26 00:00:00-05:00    0.219498    0.225434    0.217367    0.219193   \n",
              "2002-12-27 00:00:00-05:00    0.217823    0.218889    0.213257    0.214017   \n",
              "2002-12-30 00:00:00-05:00    0.214323    0.215388    0.210669    0.214170   \n",
              "...                               ...         ...         ...         ...   \n",
              "2022-12-16 00:00:00-05:00  136.690002  137.649994  133.729996  134.509995   \n",
              "2022-12-19 00:00:00-05:00  135.110001  135.199997  131.320007  132.369995   \n",
              "2022-12-20 00:00:00-05:00  131.389999  133.250000  129.889999  132.300003   \n",
              "2022-12-21 00:00:00-05:00  132.979996  136.809998  132.750000  135.449997   \n",
              "2022-12-22 00:00:00-05:00  134.352005  134.550003  130.300003  130.839996   \n",
              "\n",
              "                              Volume  Dividends  Stock Splits  \n",
              "Date                                                           \n",
              "2002-12-23 00:00:00-05:00  125826400        0.0           0.0  \n",
              "2002-12-24 00:00:00-05:00   39340000        0.0           0.0  \n",
              "2002-12-26 00:00:00-05:00   85422400        0.0           0.0  \n",
              "2002-12-27 00:00:00-05:00   80035200        0.0           0.0  \n",
              "2002-12-30 00:00:00-05:00  155041600        0.0           0.0  \n",
              "...                              ...        ...           ...  \n",
              "2022-12-16 00:00:00-05:00  160080100        0.0           0.0  \n",
              "2022-12-19 00:00:00-05:00   79592600        0.0           0.0  \n",
              "2022-12-20 00:00:00-05:00   77432800        0.0           0.0  \n",
              "2022-12-21 00:00:00-05:00   85859600        0.0           0.0  \n",
              "2022-12-22 00:00:00-05:00   45025732        0.0           0.0  \n",
              "\n",
              "[5036 rows x 7 columns]"
            ],
            "text/html": [
              "\n",
              "  <div id=\"df-6894306a-3234-4515-a07a-2ca965853449\">\n",
              "    <div class=\"colab-df-container\">\n",
              "      <div>\n",
              "<style scoped>\n",
              "    .dataframe tbody tr th:only-of-type {\n",
              "        vertical-align: middle;\n",
              "    }\n",
              "\n",
              "    .dataframe tbody tr th {\n",
              "        vertical-align: top;\n",
              "    }\n",
              "\n",
              "    .dataframe thead th {\n",
              "        text-align: right;\n",
              "    }\n",
              "</style>\n",
              "<table border=\"1\" class=\"dataframe\">\n",
              "  <thead>\n",
              "    <tr style=\"text-align: right;\">\n",
              "      <th></th>\n",
              "      <th>Open</th>\n",
              "      <th>High</th>\n",
              "      <th>Low</th>\n",
              "      <th>Close</th>\n",
              "      <th>Volume</th>\n",
              "      <th>Dividends</th>\n",
              "      <th>Stock Splits</th>\n",
              "    </tr>\n",
              "    <tr>\n",
              "      <th>Date</th>\n",
              "      <th></th>\n",
              "      <th></th>\n",
              "      <th></th>\n",
              "      <th></th>\n",
              "      <th></th>\n",
              "      <th></th>\n",
              "      <th></th>\n",
              "    </tr>\n",
              "  </thead>\n",
              "  <tbody>\n",
              "    <tr>\n",
              "      <th>2002-12-23 00:00:00-05:00</th>\n",
              "      <td>0.215540</td>\n",
              "      <td>0.221476</td>\n",
              "      <td>0.214931</td>\n",
              "      <td>0.220563</td>\n",
              "      <td>125826400</td>\n",
              "      <td>0.0</td>\n",
              "      <td>0.0</td>\n",
              "    </tr>\n",
              "    <tr>\n",
              "      <th>2002-12-24 00:00:00-05:00</th>\n",
              "      <td>0.219802</td>\n",
              "      <td>0.220259</td>\n",
              "      <td>0.217671</td>\n",
              "      <td>0.218585</td>\n",
              "      <td>39340000</td>\n",
              "      <td>0.0</td>\n",
              "      <td>0.0</td>\n",
              "    </tr>\n",
              "    <tr>\n",
              "      <th>2002-12-26 00:00:00-05:00</th>\n",
              "      <td>0.219498</td>\n",
              "      <td>0.225434</td>\n",
              "      <td>0.217367</td>\n",
              "      <td>0.219193</td>\n",
              "      <td>85422400</td>\n",
              "      <td>0.0</td>\n",
              "      <td>0.0</td>\n",
              "    </tr>\n",
              "    <tr>\n",
              "      <th>2002-12-27 00:00:00-05:00</th>\n",
              "      <td>0.217823</td>\n",
              "      <td>0.218889</td>\n",
              "      <td>0.213257</td>\n",
              "      <td>0.214017</td>\n",
              "      <td>80035200</td>\n",
              "      <td>0.0</td>\n",
              "      <td>0.0</td>\n",
              "    </tr>\n",
              "    <tr>\n",
              "      <th>2002-12-30 00:00:00-05:00</th>\n",
              "      <td>0.214323</td>\n",
              "      <td>0.215388</td>\n",
              "      <td>0.210669</td>\n",
              "      <td>0.214170</td>\n",
              "      <td>155041600</td>\n",
              "      <td>0.0</td>\n",
              "      <td>0.0</td>\n",
              "    </tr>\n",
              "    <tr>\n",
              "      <th>...</th>\n",
              "      <td>...</td>\n",
              "      <td>...</td>\n",
              "      <td>...</td>\n",
              "      <td>...</td>\n",
              "      <td>...</td>\n",
              "      <td>...</td>\n",
              "      <td>...</td>\n",
              "    </tr>\n",
              "    <tr>\n",
              "      <th>2022-12-16 00:00:00-05:00</th>\n",
              "      <td>136.690002</td>\n",
              "      <td>137.649994</td>\n",
              "      <td>133.729996</td>\n",
              "      <td>134.509995</td>\n",
              "      <td>160080100</td>\n",
              "      <td>0.0</td>\n",
              "      <td>0.0</td>\n",
              "    </tr>\n",
              "    <tr>\n",
              "      <th>2022-12-19 00:00:00-05:00</th>\n",
              "      <td>135.110001</td>\n",
              "      <td>135.199997</td>\n",
              "      <td>131.320007</td>\n",
              "      <td>132.369995</td>\n",
              "      <td>79592600</td>\n",
              "      <td>0.0</td>\n",
              "      <td>0.0</td>\n",
              "    </tr>\n",
              "    <tr>\n",
              "      <th>2022-12-20 00:00:00-05:00</th>\n",
              "      <td>131.389999</td>\n",
              "      <td>133.250000</td>\n",
              "      <td>129.889999</td>\n",
              "      <td>132.300003</td>\n",
              "      <td>77432800</td>\n",
              "      <td>0.0</td>\n",
              "      <td>0.0</td>\n",
              "    </tr>\n",
              "    <tr>\n",
              "      <th>2022-12-21 00:00:00-05:00</th>\n",
              "      <td>132.979996</td>\n",
              "      <td>136.809998</td>\n",
              "      <td>132.750000</td>\n",
              "      <td>135.449997</td>\n",
              "      <td>85859600</td>\n",
              "      <td>0.0</td>\n",
              "      <td>0.0</td>\n",
              "    </tr>\n",
              "    <tr>\n",
              "      <th>2022-12-22 00:00:00-05:00</th>\n",
              "      <td>134.352005</td>\n",
              "      <td>134.550003</td>\n",
              "      <td>130.300003</td>\n",
              "      <td>130.839996</td>\n",
              "      <td>45025732</td>\n",
              "      <td>0.0</td>\n",
              "      <td>0.0</td>\n",
              "    </tr>\n",
              "  </tbody>\n",
              "</table>\n",
              "<p>5036 rows × 7 columns</p>\n",
              "</div>\n",
              "      <button class=\"colab-df-convert\" onclick=\"convertToInteractive('df-6894306a-3234-4515-a07a-2ca965853449')\"\n",
              "              title=\"Convert this dataframe to an interactive table.\"\n",
              "              style=\"display:none;\">\n",
              "        \n",
              "  <svg xmlns=\"http://www.w3.org/2000/svg\" height=\"24px\"viewBox=\"0 0 24 24\"\n",
              "       width=\"24px\">\n",
              "    <path d=\"M0 0h24v24H0V0z\" fill=\"none\"/>\n",
              "    <path d=\"M18.56 5.44l.94 2.06.94-2.06 2.06-.94-2.06-.94-.94-2.06-.94 2.06-2.06.94zm-11 1L8.5 8.5l.94-2.06 2.06-.94-2.06-.94L8.5 2.5l-.94 2.06-2.06.94zm10 10l.94 2.06.94-2.06 2.06-.94-2.06-.94-.94-2.06-.94 2.06-2.06.94z\"/><path d=\"M17.41 7.96l-1.37-1.37c-.4-.4-.92-.59-1.43-.59-.52 0-1.04.2-1.43.59L10.3 9.45l-7.72 7.72c-.78.78-.78 2.05 0 2.83L4 21.41c.39.39.9.59 1.41.59.51 0 1.02-.2 1.41-.59l7.78-7.78 2.81-2.81c.8-.78.8-2.07 0-2.86zM5.41 20L4 18.59l7.72-7.72 1.47 1.35L5.41 20z\"/>\n",
              "  </svg>\n",
              "      </button>\n",
              "      \n",
              "  <style>\n",
              "    .colab-df-container {\n",
              "      display:flex;\n",
              "      flex-wrap:wrap;\n",
              "      gap: 12px;\n",
              "    }\n",
              "\n",
              "    .colab-df-convert {\n",
              "      background-color: #E8F0FE;\n",
              "      border: none;\n",
              "      border-radius: 50%;\n",
              "      cursor: pointer;\n",
              "      display: none;\n",
              "      fill: #1967D2;\n",
              "      height: 32px;\n",
              "      padding: 0 0 0 0;\n",
              "      width: 32px;\n",
              "    }\n",
              "\n",
              "    .colab-df-convert:hover {\n",
              "      background-color: #E2EBFA;\n",
              "      box-shadow: 0px 1px 2px rgba(60, 64, 67, 0.3), 0px 1px 3px 1px rgba(60, 64, 67, 0.15);\n",
              "      fill: #174EA6;\n",
              "    }\n",
              "\n",
              "    [theme=dark] .colab-df-convert {\n",
              "      background-color: #3B4455;\n",
              "      fill: #D2E3FC;\n",
              "    }\n",
              "\n",
              "    [theme=dark] .colab-df-convert:hover {\n",
              "      background-color: #434B5C;\n",
              "      box-shadow: 0px 1px 3px 1px rgba(0, 0, 0, 0.15);\n",
              "      filter: drop-shadow(0px 1px 2px rgba(0, 0, 0, 0.3));\n",
              "      fill: #FFFFFF;\n",
              "    }\n",
              "  </style>\n",
              "\n",
              "      <script>\n",
              "        const buttonEl =\n",
              "          document.querySelector('#df-6894306a-3234-4515-a07a-2ca965853449 button.colab-df-convert');\n",
              "        buttonEl.style.display =\n",
              "          google.colab.kernel.accessAllowed ? 'block' : 'none';\n",
              "\n",
              "        async function convertToInteractive(key) {\n",
              "          const element = document.querySelector('#df-6894306a-3234-4515-a07a-2ca965853449');\n",
              "          const dataTable =\n",
              "            await google.colab.kernel.invokeFunction('convertToInteractive',\n",
              "                                                     [key], {});\n",
              "          if (!dataTable) return;\n",
              "\n",
              "          const docLinkHtml = 'Like what you see? Visit the ' +\n",
              "            '<a target=\"_blank\" href=https://colab.research.google.com/notebooks/data_table.ipynb>data table notebook</a>'\n",
              "            + ' to learn more about interactive tables.';\n",
              "          element.innerHTML = '';\n",
              "          dataTable['output_type'] = 'display_data';\n",
              "          await google.colab.output.renderOutput(dataTable, element);\n",
              "          const docLink = document.createElement('div');\n",
              "          docLink.innerHTML = docLinkHtml;\n",
              "          element.appendChild(docLink);\n",
              "        }\n",
              "      </script>\n",
              "    </div>\n",
              "  </div>\n",
              "  "
            ]
          },
          "metadata": {},
          "execution_count": 63
        }
      ]
    },
    {
      "cell_type": "code",
      "source": [
        "df.tail()"
      ],
      "metadata": {
        "id": "FUFMCdiH12mq",
        "colab": {
          "base_uri": "https://localhost:8080/",
          "height": 579
        },
        "outputId": "b6f32f56-808a-45a2-f329-9e4ed5e0e1cd"
      },
      "execution_count": null,
      "outputs": [
        {
          "output_type": "execute_result",
          "data": {
            "text/plain": [
              "                                 Open        High         Low       Close  \\\n",
              "Date                                                                        \n",
              "2022-12-16 00:00:00-05:00  136.690002  137.649994  133.729996  134.509995   \n",
              "2022-12-19 00:00:00-05:00  135.110001  135.199997  131.320007  132.369995   \n",
              "2022-12-20 00:00:00-05:00  131.389999  133.250000  129.889999  132.300003   \n",
              "2022-12-21 00:00:00-05:00  132.979996  136.809998  132.750000  135.449997   \n",
              "2022-12-22 00:00:00-05:00  134.352005  134.550003  130.300003  130.839996   \n",
              "\n",
              "                              Volume  Dividends  Stock Splits  \n",
              "Date                                                           \n",
              "2022-12-16 00:00:00-05:00  160080100        0.0           0.0  \n",
              "2022-12-19 00:00:00-05:00   79592600        0.0           0.0  \n",
              "2022-12-20 00:00:00-05:00   77432800        0.0           0.0  \n",
              "2022-12-21 00:00:00-05:00   85859600        0.0           0.0  \n",
              "2022-12-22 00:00:00-05:00   45025732        0.0           0.0  "
            ],
            "text/html": [
              "\n",
              "  <div id=\"df-73632247-870d-4a4c-ad14-7c32b9b2de69\">\n",
              "    <div class=\"colab-df-container\">\n",
              "      <div>\n",
              "<style scoped>\n",
              "    .dataframe tbody tr th:only-of-type {\n",
              "        vertical-align: middle;\n",
              "    }\n",
              "\n",
              "    .dataframe tbody tr th {\n",
              "        vertical-align: top;\n",
              "    }\n",
              "\n",
              "    .dataframe thead th {\n",
              "        text-align: right;\n",
              "    }\n",
              "</style>\n",
              "<table border=\"1\" class=\"dataframe\">\n",
              "  <thead>\n",
              "    <tr style=\"text-align: right;\">\n",
              "      <th></th>\n",
              "      <th>Open</th>\n",
              "      <th>High</th>\n",
              "      <th>Low</th>\n",
              "      <th>Close</th>\n",
              "      <th>Volume</th>\n",
              "      <th>Dividends</th>\n",
              "      <th>Stock Splits</th>\n",
              "    </tr>\n",
              "    <tr>\n",
              "      <th>Date</th>\n",
              "      <th></th>\n",
              "      <th></th>\n",
              "      <th></th>\n",
              "      <th></th>\n",
              "      <th></th>\n",
              "      <th></th>\n",
              "      <th></th>\n",
              "    </tr>\n",
              "  </thead>\n",
              "  <tbody>\n",
              "    <tr>\n",
              "      <th>2022-12-16 00:00:00-05:00</th>\n",
              "      <td>136.690002</td>\n",
              "      <td>137.649994</td>\n",
              "      <td>133.729996</td>\n",
              "      <td>134.509995</td>\n",
              "      <td>160080100</td>\n",
              "      <td>0.0</td>\n",
              "      <td>0.0</td>\n",
              "    </tr>\n",
              "    <tr>\n",
              "      <th>2022-12-19 00:00:00-05:00</th>\n",
              "      <td>135.110001</td>\n",
              "      <td>135.199997</td>\n",
              "      <td>131.320007</td>\n",
              "      <td>132.369995</td>\n",
              "      <td>79592600</td>\n",
              "      <td>0.0</td>\n",
              "      <td>0.0</td>\n",
              "    </tr>\n",
              "    <tr>\n",
              "      <th>2022-12-20 00:00:00-05:00</th>\n",
              "      <td>131.389999</td>\n",
              "      <td>133.250000</td>\n",
              "      <td>129.889999</td>\n",
              "      <td>132.300003</td>\n",
              "      <td>77432800</td>\n",
              "      <td>0.0</td>\n",
              "      <td>0.0</td>\n",
              "    </tr>\n",
              "    <tr>\n",
              "      <th>2022-12-21 00:00:00-05:00</th>\n",
              "      <td>132.979996</td>\n",
              "      <td>136.809998</td>\n",
              "      <td>132.750000</td>\n",
              "      <td>135.449997</td>\n",
              "      <td>85859600</td>\n",
              "      <td>0.0</td>\n",
              "      <td>0.0</td>\n",
              "    </tr>\n",
              "    <tr>\n",
              "      <th>2022-12-22 00:00:00-05:00</th>\n",
              "      <td>134.352005</td>\n",
              "      <td>134.550003</td>\n",
              "      <td>130.300003</td>\n",
              "      <td>130.839996</td>\n",
              "      <td>45025732</td>\n",
              "      <td>0.0</td>\n",
              "      <td>0.0</td>\n",
              "    </tr>\n",
              "  </tbody>\n",
              "</table>\n",
              "</div>\n",
              "      <button class=\"colab-df-convert\" onclick=\"convertToInteractive('df-73632247-870d-4a4c-ad14-7c32b9b2de69')\"\n",
              "              title=\"Convert this dataframe to an interactive table.\"\n",
              "              style=\"display:none;\">\n",
              "        \n",
              "  <svg xmlns=\"http://www.w3.org/2000/svg\" height=\"24px\"viewBox=\"0 0 24 24\"\n",
              "       width=\"24px\">\n",
              "    <path d=\"M0 0h24v24H0V0z\" fill=\"none\"/>\n",
              "    <path d=\"M18.56 5.44l.94 2.06.94-2.06 2.06-.94-2.06-.94-.94-2.06-.94 2.06-2.06.94zm-11 1L8.5 8.5l.94-2.06 2.06-.94-2.06-.94L8.5 2.5l-.94 2.06-2.06.94zm10 10l.94 2.06.94-2.06 2.06-.94-2.06-.94-.94-2.06-.94 2.06-2.06.94z\"/><path d=\"M17.41 7.96l-1.37-1.37c-.4-.4-.92-.59-1.43-.59-.52 0-1.04.2-1.43.59L10.3 9.45l-7.72 7.72c-.78.78-.78 2.05 0 2.83L4 21.41c.39.39.9.59 1.41.59.51 0 1.02-.2 1.41-.59l7.78-7.78 2.81-2.81c.8-.78.8-2.07 0-2.86zM5.41 20L4 18.59l7.72-7.72 1.47 1.35L5.41 20z\"/>\n",
              "  </svg>\n",
              "      </button>\n",
              "      \n",
              "  <style>\n",
              "    .colab-df-container {\n",
              "      display:flex;\n",
              "      flex-wrap:wrap;\n",
              "      gap: 12px;\n",
              "    }\n",
              "\n",
              "    .colab-df-convert {\n",
              "      background-color: #E8F0FE;\n",
              "      border: none;\n",
              "      border-radius: 50%;\n",
              "      cursor: pointer;\n",
              "      display: none;\n",
              "      fill: #1967D2;\n",
              "      height: 32px;\n",
              "      padding: 0 0 0 0;\n",
              "      width: 32px;\n",
              "    }\n",
              "\n",
              "    .colab-df-convert:hover {\n",
              "      background-color: #E2EBFA;\n",
              "      box-shadow: 0px 1px 2px rgba(60, 64, 67, 0.3), 0px 1px 3px 1px rgba(60, 64, 67, 0.15);\n",
              "      fill: #174EA6;\n",
              "    }\n",
              "\n",
              "    [theme=dark] .colab-df-convert {\n",
              "      background-color: #3B4455;\n",
              "      fill: #D2E3FC;\n",
              "    }\n",
              "\n",
              "    [theme=dark] .colab-df-convert:hover {\n",
              "      background-color: #434B5C;\n",
              "      box-shadow: 0px 1px 3px 1px rgba(0, 0, 0, 0.15);\n",
              "      filter: drop-shadow(0px 1px 2px rgba(0, 0, 0, 0.3));\n",
              "      fill: #FFFFFF;\n",
              "    }\n",
              "  </style>\n",
              "\n",
              "      <script>\n",
              "        const buttonEl =\n",
              "          document.querySelector('#df-73632247-870d-4a4c-ad14-7c32b9b2de69 button.colab-df-convert');\n",
              "        buttonEl.style.display =\n",
              "          google.colab.kernel.accessAllowed ? 'block' : 'none';\n",
              "\n",
              "        async function convertToInteractive(key) {\n",
              "          const element = document.querySelector('#df-73632247-870d-4a4c-ad14-7c32b9b2de69');\n",
              "          const dataTable =\n",
              "            await google.colab.kernel.invokeFunction('convertToInteractive',\n",
              "                                                     [key], {});\n",
              "          if (!dataTable) return;\n",
              "\n",
              "          const docLinkHtml = 'Like what you see? Visit the ' +\n",
              "            '<a target=\"_blank\" href=https://colab.research.google.com/notebooks/data_table.ipynb>data table notebook</a>'\n",
              "            + ' to learn more about interactive tables.';\n",
              "          element.innerHTML = '';\n",
              "          dataTable['output_type'] = 'display_data';\n",
              "          await google.colab.output.renderOutput(dataTable, element);\n",
              "          const docLink = document.createElement('div');\n",
              "          docLink.innerHTML = docLinkHtml;\n",
              "          element.appendChild(docLink);\n",
              "        }\n",
              "      </script>\n",
              "    </div>\n",
              "  </div>\n",
              "  "
            ]
          },
          "metadata": {},
          "execution_count": 64
        }
      ]
    },
    {
      "cell_type": "code",
      "source": [
        "plt.plot(df.Close)"
      ],
      "metadata": {
        "colab": {
          "base_uri": "https://localhost:8080/",
          "height": 282
        },
        "id": "7OjbWecnLgfz",
        "outputId": "19253f60-b8f4-40ed-b88c-8abdcc3cab3f"
      },
      "execution_count": null,
      "outputs": [
        {
          "output_type": "execute_result",
          "data": {
            "text/plain": [
              "[<matplotlib.lines.Line2D at 0x7fd47d5bff10>]"
            ]
          },
          "metadata": {},
          "execution_count": 67
        },
        {
          "output_type": "display_data",
          "data": {
            "text/plain": [
              "<Figure size 432x288 with 1 Axes>"
            ],
            "image/png": "[encoded data removed]"
          },
          "metadata": {
            "needs_background": "light"
          }
        }
      ]
    },
    {
      "cell_type": "code",
      "source": [
        "df"
      ],
      "metadata": {
        "colab": {
          "base_uri": "https://localhost:8080/",
          "height": 1000
        },
        "id": "D2nQGMGeLgiT",
        "outputId": "9f747286-3558-4048-a2ad-da21da8b82eb"
      },
      "execution_count": null,
      "outputs": [
        {
          "output_type": "execute_result",
          "data": {
            "text/plain": [
              "                                 Open        High         Low       Close  \\\n",
              "Date                                                                        \n",
              "2002-12-23 00:00:00-05:00    0.215540    0.221476    0.214931    0.220563   \n",
              "2002-12-24 00:00:00-05:00    0.219802    0.220259    0.217671    0.218585   \n",
              "2002-12-26 00:00:00-05:00    0.219498    0.225434    0.217367    0.219193   \n",
              "2002-12-27 00:00:00-05:00    0.217823    0.218889    0.213257    0.214017   \n",
              "2002-12-30 00:00:00-05:00    0.214323    0.215388    0.210669    0.214170   \n",
              "...                               ...         ...         ...         ...   \n",
              "2022-12-16 00:00:00-05:00  136.690002  137.649994  133.729996  134.509995   \n",
              "2022-12-19 00:00:00-05:00  135.110001  135.199997  131.320007  132.369995   \n",
              "2022-12-20 00:00:00-05:00  131.389999  133.250000  129.889999  132.300003   \n",
              "2022-12-21 00:00:00-05:00  132.979996  136.809998  132.750000  135.449997   \n",
              "2022-12-22 00:00:00-05:00  134.352005  134.550003  130.300003  130.839996   \n",
              "\n",
              "                              Volume  Dividends  Stock Splits  \n",
              "Date                                                           \n",
              "2002-12-23 00:00:00-05:00  125826400        0.0           0.0  \n",
              "2002-12-24 00:00:00-05:00   39340000        0.0           0.0  \n",
              "2002-12-26 00:00:00-05:00   85422400        0.0           0.0  \n",
              "2002-12-27 00:00:00-05:00   80035200        0.0           0.0  \n",
              "2002-12-30 00:00:00-05:00  155041600        0.0           0.0  \n",
              "...                              ...        ...           ...  \n",
              "2022-12-16 00:00:00-05:00  160080100        0.0           0.0  \n",
              "2022-12-19 00:00:00-05:00   79592600        0.0           0.0  \n",
              "2022-12-20 00:00:00-05:00   77432800        0.0           0.0  \n",
              "2022-12-21 00:00:00-05:00   85859600        0.0           0.0  \n",
              "2022-12-22 00:00:00-05:00   45025732        0.0           0.0  \n",
              "\n",
              "[5036 rows x 7 columns]"
            ],
            "text/html": [
              "\n",
              "  <div id=\"df-9716363e-0eb9-41cf-9340-395b84968205\">\n",
              "    <div class=\"colab-df-container\">\n",
              "      <div>\n",
              "<style scoped>\n",
              "    .dataframe tbody tr th:only-of-type {\n",
              "        vertical-align: middle;\n",
              "    }\n",
              "\n",
              "    .dataframe tbody tr th {\n",
              "        vertical-align: top;\n",
              "    }\n",
              "\n",
              "    .dataframe thead th {\n",
              "        text-align: right;\n",
              "    }\n",
              "</style>\n",
              "<table border=\"1\" class=\"dataframe\">\n",
              "  <thead>\n",
              "    <tr style=\"text-align: right;\">\n",
              "      <th></th>\n",
              "      <th>Open</th>\n",
              "      <th>High</th>\n",
              "      <th>Low</th>\n",
              "      <th>Close</th>\n",
              "      <th>Volume</th>\n",
              "      <th>Dividends</th>\n",
              "      <th>Stock Splits</th>\n",
              "    </tr>\n",
              "    <tr>\n",
              "      <th>Date</th>\n",
              "      <th></th>\n",
              "      <th></th>\n",
              "      <th></th>\n",
              "      <th></th>\n",
              "      <th></th>\n",
              "      <th></th>\n",
              "      <th></th>\n",
              "    </tr>\n",
              "  </thead>\n",
              "  <tbody>\n",
              "    <tr>\n",
              "      <th>2002-12-23 00:00:00-05:00</th>\n",
              "      <td>0.215540</td>\n",
              "      <td>0.221476</td>\n",
              "      <td>0.214931</td>\n",
              "      <td>0.220563</td>\n",
              "      <td>125826400</td>\n",
              "      <td>0.0</td>\n",
              "      <td>0.0</td>\n",
              "    </tr>\n",
              "    <tr>\n",
              "      <th>2002-12-24 00:00:00-05:00</th>\n",
              "      <td>0.219802</td>\n",
              "      <td>0.220259</td>\n",
              "      <td>0.217671</td>\n",
              "      <td>0.218585</td>\n",
              "      <td>39340000</td>\n",
              "      <td>0.0</td>\n",
              "      <td>0.0</td>\n",
              "    </tr>\n",
              "    <tr>\n",
              "      <th>2002-12-26 00:00:00-05:00</th>\n",
              "      <td>0.219498</td>\n",
              "      <td>0.225434</td>\n",
              "      <td>0.217367</td>\n",
              "      <td>0.219193</td>\n",
              "      <td>85422400</td>\n",
              "      <td>0.0</td>\n",
              "      <td>0.0</td>\n",
              "    </tr>\n",
              "    <tr>\n",
              "      <th>2002-12-27 00:00:00-05:00</th>\n",
              "      <td>0.217823</td>\n",
              "      <td>0.218889</td>\n",
              "      <td>0.213257</td>\n",
              "      <td>0.214017</td>\n",
              "      <td>80035200</td>\n",
              "      <td>0.0</td>\n",
              "      <td>0.0</td>\n",
              "    </tr>\n",
              "    <tr>\n",
              "      <th>2002-12-30 00:00:00-05:00</th>\n",
              "      <td>0.214323</td>\n",
              "      <td>0.215388</td>\n",
              "      <td>0.210669</td>\n",
              "      <td>0.214170</td>\n",
              "      <td>155041600</td>\n",
              "      <td>0.0</td>\n",
              "      <td>0.0</td>\n",
              "    </tr>\n",
              "    <tr>\n",
              "      <th>...</th>\n",
              "      <td>...</td>\n",
              "      <td>...</td>\n",
              "      <td>...</td>\n",
              "      <td>...</td>\n",
              "      <td>...</td>\n",
              "      <td>...</td>\n",
              "      <td>...</td>\n",
              "    </tr>\n",
              "    <tr>\n",
              "      <th>2022-12-16 00:00:00-05:00</th>\n",
              "      <td>136.690002</td>\n",
              "      <td>137.649994</td>\n",
              "      <td>133.729996</td>\n",
              "      <td>134.509995</td>\n",
              "      <td>160080100</td>\n",
              "      <td>0.0</td>\n",
              "      <td>0.0</td>\n",
              "    </tr>\n",
              "    <tr>\n",
              "      <th>2022-12-19 00:00:00-05:00</th>\n",
              "      <td>135.110001</td>\n",
              "      <td>135.199997</td>\n",
              "      <td>131.320007</td>\n",
              "      <td>132.369995</td>\n",
              "      <td>79592600</td>\n",
              "      <td>0.0</td>\n",
              "      <td>0.0</td>\n",
              "    </tr>\n",
              "    <tr>\n",
              "      <th>2022-12-20 00:00:00-05:00</th>\n",
              "      <td>131.389999</td>\n",
              "      <td>133.250000</td>\n",
              "      <td>129.889999</td>\n",
              "      <td>132.300003</td>\n",
              "      <td>77432800</td>\n",
              "      <td>0.0</td>\n",
              "      <td>0.0</td>\n",
              "    </tr>\n",
              "    <tr>\n",
              "      <th>2022-12-21 00:00:00-05:00</th>\n",
              "      <td>132.979996</td>\n",
              "      <td>136.809998</td>\n",
              "      <td>132.750000</td>\n",
              "      <td>135.449997</td>\n",
              "      <td>85859600</td>\n",
              "      <td>0.0</td>\n",
              "      <td>0.0</td>\n",
              "    </tr>\n",
              "    <tr>\n",
              "      <th>2022-12-22 00:00:00-05:00</th>\n",
              "      <td>134.352005</td>\n",
              "      <td>134.550003</td>\n",
              "      <td>130.300003</td>\n",
              "      <td>130.839996</td>\n",
              "      <td>45025732</td>\n",
              "      <td>0.0</td>\n",
              "      <td>0.0</td>\n",
              "    </tr>\n",
              "  </tbody>\n",
              "</table>\n",
              "<p>5036 rows × 7 columns</p>\n",
              "</div>\n",
              "      <button class=\"colab-df-convert\" onclick=\"convertToInteractive('df-9716363e-0eb9-41cf-9340-395b84968205')\"\n",
              "              title=\"Convert this dataframe to an interactive table.\"\n",
              "              style=\"display:none;\">\n",
              "        \n",
              "  <svg xmlns=\"http://www.w3.org/2000/svg\" height=\"24px\"viewBox=\"0 0 24 24\"\n",
              "       width=\"24px\">\n",
              "    <path d=\"M0 0h24v24H0V0z\" fill=\"none\"/>\n",
              "    <path d=\"M18.56 5.44l.94 2.06.94-2.06 2.06-.94-2.06-.94-.94-2.06-.94 2.06-2.06.94zm-11 1L8.5 8.5l.94-2.06 2.06-.94-2.06-.94L8.5 2.5l-.94 2.06-2.06.94zm10 10l.94 2.06.94-2.06 2.06-.94-2.06-.94-.94-2.06-.94 2.06-2.06.94z\"/><path d=\"M17.41 7.96l-1.37-1.37c-.4-.4-.92-.59-1.43-.59-.52 0-1.04.2-1.43.59L10.3 9.45l-7.72 7.72c-.78.78-.78 2.05 0 2.83L4 21.41c.39.39.9.59 1.41.59.51 0 1.02-.2 1.41-.59l7.78-7.78 2.81-2.81c.8-.78.8-2.07 0-2.86zM5.41 20L4 18.59l7.72-7.72 1.47 1.35L5.41 20z\"/>\n",
              "  </svg>\n",
              "      </button>\n",
              "      \n",
              "  <style>\n",
              "    .colab-df-container {\n",
              "      display:flex;\n",
              "      flex-wrap:wrap;\n",
              "      gap: 12px;\n",
              "    }\n",
              "\n",
              "    .colab-df-convert {\n",
              "      background-color: #E8F0FE;\n",
              "      border: none;\n",
              "      border-radius: 50%;\n",
              "      cursor: pointer;\n",
              "      display: none;\n",
              "      fill: #1967D2;\n",
              "      height: 32px;\n",
              "      padding: 0 0 0 0;\n",
              "      width: 32px;\n",
              "    }\n",
              "\n",
              "    .colab-df-convert:hover {\n",
              "      background-color: #E2EBFA;\n",
              "      box-shadow: 0px 1px 2px rgba(60, 64, 67, 0.3), 0px 1px 3px 1px rgba(60, 64, 67, 0.15);\n",
              "      fill: #174EA6;\n",
              "    }\n",
              "\n",
              "    [theme=dark] .colab-df-convert {\n",
              "      background-color: #3B4455;\n",
              "      fill: #D2E3FC;\n",
              "    }\n",
              "\n",
              "    [theme=dark] .colab-df-convert:hover {\n",
              "      background-color: #434B5C;\n",
              "      box-shadow: 0px 1px 3px 1px rgba(0, 0, 0, 0.15);\n",
              "      filter: drop-shadow(0px 1px 2px rgba(0, 0, 0, 0.3));\n",
              "      fill: #FFFFFF;\n",
              "    }\n",
              "  </style>\n",
              "\n",
              "      <script>\n",
              "        const buttonEl =\n",
              "          document.querySelector('#df-9716363e-0eb9-41cf-9340-395b84968205 button.colab-df-convert');\n",
              "        buttonEl.style.display =\n",
              "          google.colab.kernel.accessAllowed ? 'block' : 'none';\n",
              "\n",
              "        async function convertToInteractive(key) {\n",
              "          const element = document.querySelector('#df-9716363e-0eb9-41cf-9340-395b84968205');\n",
              "          const dataTable =\n",
              "            await google.colab.kernel.invokeFunction('convertToInteractive',\n",
              "                                                     [key], {});\n",
              "          if (!dataTable) return;\n",
              "\n",
              "          const docLinkHtml = 'Like what you see? Visit the ' +\n",
              "            '<a target=\"_blank\" href=https://colab.research.google.com/notebooks/data_table.ipynb>data table notebook</a>'\n",
              "            + ' to learn more about interactive tables.';\n",
              "          element.innerHTML = '';\n",
              "          dataTable['output_type'] = 'display_data';\n",
              "          await google.colab.output.renderOutput(dataTable, element);\n",
              "          const docLink = document.createElement('div');\n",
              "          docLink.innerHTML = docLinkHtml;\n",
              "          element.appendChild(docLink);\n",
              "        }\n",
              "      </script>\n",
              "    </div>\n",
              "  </div>\n",
              "  "
            ]
          },
          "metadata": {},
          "execution_count": 97
        }
      ]
    },
    {
      "cell_type": "code",
      "source": [
        "ma100 = df.Close.rolling(100).mean()\n",
        "ma100"
      ],
      "metadata": {
        "colab": {
          "base_uri": "https://localhost:8080/"
        },
        "id": "vYoBKC_JLglN",
        "outputId": "c895df64-41c8-4eec-86ed-a285e3dc8a4b"
      },
      "execution_count": null,
      "outputs": [
        {
          "output_type": "execute_result",
          "data": {
            "text/plain": [
              "Date\n",
              "2002-12-23 00:00:00-05:00           NaN\n",
              "2002-12-24 00:00:00-05:00           NaN\n",
              "2002-12-26 00:00:00-05:00           NaN\n",
              "2002-12-27 00:00:00-05:00           NaN\n",
              "2002-12-30 00:00:00-05:00           NaN\n",
              "                                ...    \n",
              "2022-12-16 00:00:00-05:00    151.755414\n",
              "2022-12-19 00:00:00-05:00    151.510399\n",
              "2022-12-20 00:00:00-05:00    151.213241\n",
              "2022-12-21 00:00:00-05:00    150.957552\n",
              "2022-12-22 00:00:00-05:00    150.670718\n",
              "Name: Close, Length: 5036, dtype: float64"
            ]
          },
          "metadata": {},
          "execution_count": 69
        }
      ]
    },
    {
      "cell_type": "code",
      "source": [
        "plt.figure(figsize = (12, 6))\n",
        "plt.plot(df.Close)\n",
        "plt.plot(ma100, 'r')"
      ],
      "metadata": {
        "colab": {
          "base_uri": "https://localhost:8080/",
          "height": 351
        },
        "id": "ACEhiNn7Nd-m",
        "outputId": "a5b7c885-cd1f-4ca4-a91b-b0c990655fff"
      },
      "execution_count": null,
      "outputs": [
        {
          "output_type": "execute_result",
          "data": {
            "text/plain": [
              "[<matplotlib.lines.Line2D at 0x7fd47c9fd130>]"
            ]
          },
          "metadata": {},
          "execution_count": 73
        },
        {
          "output_type": "display_data",
          "data": {
            "text/plain": [
              "<Figure size 864x432 with 1 Axes>"
            ],
            "image/png": "[encoded data removed]"
          },
          "metadata": {
            "needs_background": "light"
          }
        }
      ]
    },
    {
      "cell_type": "code",
      "source": [
        "ma200 = df.Close.rolling(200).mean()\n",
        "ma200"
      ],
      "metadata": {
        "colab": {
          "base_uri": "https://localhost:8080/"
        },
        "id": "haVOBQqJNeBd",
        "outputId": "a14f39b0-3627-4ce2-97da-fae9272b9799"
      },
      "execution_count": null,
      "outputs": [
        {
          "output_type": "execute_result",
          "data": {
            "text/plain": [
              "Date\n",
              "2002-12-23 00:00:00-05:00           NaN\n",
              "2002-12-24 00:00:00-05:00           NaN\n",
              "2002-12-26 00:00:00-05:00           NaN\n",
              "2002-12-27 00:00:00-05:00           NaN\n",
              "2002-12-30 00:00:00-05:00           NaN\n",
              "                                ...    \n",
              "2022-12-16 00:00:00-05:00    152.435416\n",
              "2022-12-19 00:00:00-05:00    152.285090\n",
              "2022-12-20 00:00:00-05:00    152.153677\n",
              "2022-12-21 00:00:00-05:00    152.047273\n",
              "2022-12-22 00:00:00-05:00    151.890392\n",
              "Name: Close, Length: 5036, dtype: float64"
            ]
          },
          "metadata": {},
          "execution_count": 74
        }
      ]
    },
    {
      "cell_type": "code",
      "source": [
        "plt.figure(figsize = (12, 6))\n",
        "plt.plot(df.Close)\n",
        "plt.plot(ma100, 'r')\n",
        "plt.plot(ma200, 'g')"
      ],
      "metadata": {
        "colab": {
          "base_uri": "https://localhost:8080/",
          "height": 351
        },
        "id": "xK3UYc0FNeEu",
        "outputId": "ac79ab8b-df45-4a7a-8041-ce5f7bb0fbef"
      },
      "execution_count": null,
      "outputs": [
        {
          "output_type": "execute_result",
          "data": {
            "text/plain": [
              "[<matplotlib.lines.Line2D at 0x7fd47c9c7460>]"
            ]
          },
          "metadata": {},
          "execution_count": 75
        },
        {
          "output_type": "display_data",
          "data": {
            "text/plain": [
              "<Figure size 864x432 with 1 Axes>"
            ],
            "image/png": "[encoded data removed]"
          },
          "metadata": {
            "needs_background": "light"
          }
        }
      ]
    },
    {
      "cell_type": "code",
      "source": [
        "df.shape\n"
      ],
      "metadata": {
        "colab": {
          "base_uri": "https://localhost:8080/"
        },
        "id": "gIyHc8NUPbvH",
        "outputId": "f391408c-c2b5-4364-d5f2-5e9cd75120fd"
      },
      "execution_count": null,
      "outputs": [
        {
          "output_type": "execute_result",
          "data": {
            "text/plain": [
              "(5036, 7)"
            ]
          },
          "metadata": {},
          "execution_count": 76
        }
      ]
    },
    {
      "cell_type": "code",
      "source": [
        "\n",
        "# Spliting data into trainnig and testing\n",
        "\n",
        "data_training = pd.DataFrame(df['Close'][0:int(len(df)*0.70)])\n",
        "data_testing = pd.DataFrame(df['Close'][int(len(df)*0.70) :int(len(df))])\n",
        "\n",
        "print(data_training.shape)\n",
        "print(data_testing.shape)"
      ],
      "metadata": {
        "colab": {
          "base_uri": "https://localhost:8080/"
        },
        "id": "okumLmn2Pbys",
        "outputId": "a36f5fd4-d8ef-4efb-9183-0f60df58e75a"
      },
      "execution_count": null,
      "outputs": [
        {
          "output_type": "stream",
          "name": "stdout",
          "text": [
            "(3525, 1)\n",
            "(1511, 1)\n"
          ]
        }
      ]
    },
    {
      "cell_type": "code",
      "source": [
        "data_training.head()\n",
        "data_testing.head()"
      ],
      "metadata": {
        "colab": {
          "base_uri": "https://localhost:8080/",
          "height": 237
        },
        "id": "qdqSWB_5Pb15",
        "outputId": "96bfb9fc-8348-4612-dc71-b55ad13d8589"
      },
      "execution_count": null,
      "outputs": [
        {
          "output_type": "execute_result",
          "data": {
            "text/plain": [
              "                               Close\n",
              "Date                                \n",
              "2016-12-22 00:00:00-05:00  27.207508\n",
              "2016-12-23 00:00:00-05:00  27.261318\n",
              "2016-12-27 00:00:00-05:00  27.434456\n",
              "2016-12-28 00:00:00-05:00  27.317469\n",
              "2016-12-29 00:00:00-05:00  27.310453"
            ],
            "text/html": [
              "\n",
              "  <div id=\"df-9c9e2e77-d45d-4008-95ca-562f1dbf95b8\">\n",
              "    <div class=\"colab-df-container\">\n",
              "      <div>\n",
              "<style scoped>\n",
              "    .dataframe tbody tr th:only-of-type {\n",
              "        vertical-align: middle;\n",
              "    }\n",
              "\n",
              "    .dataframe tbody tr th {\n",
              "        vertical-align: top;\n",
              "    }\n",
              "\n",
              "    .dataframe thead th {\n",
              "        text-align: right;\n",
              "    }\n",
              "</style>\n",
              "<table border=\"1\" class=\"dataframe\">\n",
              "  <thead>\n",
              "    <tr style=\"text-align: right;\">\n",
              "      <th></th>\n",
              "      <th>Close</th>\n",
              "    </tr>\n",
              "    <tr>\n",
              "      <th>Date</th>\n",
              "      <th></th>\n",
              "    </tr>\n",
              "  </thead>\n",
              "  <tbody>\n",
              "    <tr>\n",
              "      <th>2016-12-22 00:00:00-05:00</th>\n",
              "      <td>27.207508</td>\n",
              "    </tr>\n",
              "    <tr>\n",
              "      <th>2016-12-23 00:00:00-05:00</th>\n",
              "      <td>27.261318</td>\n",
              "    </tr>\n",
              "    <tr>\n",
              "      <th>2016-12-27 00:00:00-05:00</th>\n",
              "      <td>27.434456</td>\n",
              "    </tr>\n",
              "    <tr>\n",
              "      <th>2016-12-28 00:00:00-05:00</th>\n",
              "      <td>27.317469</td>\n",
              "    </tr>\n",
              "    <tr>\n",
              "      <th>2016-12-29 00:00:00-05:00</th>\n",
              "      <td>27.310453</td>\n",
              "    </tr>\n",
              "  </tbody>\n",
              "</table>\n",
              "</div>\n",
              "      <button class=\"colab-df-convert\" onclick=\"convertToInteractive('df-9c9e2e77-d45d-4008-95ca-562f1dbf95b8')\"\n",
              "              title=\"Convert this dataframe to an interactive table.\"\n",
              "              style=\"display:none;\">\n",
              "        \n",
              "  <svg xmlns=\"http://www.w3.org/2000/svg\" height=\"24px\"viewBox=\"0 0 24 24\"\n",
              "       width=\"24px\">\n",
              "    <path d=\"M0 0h24v24H0V0z\" fill=\"none\"/>\n",
              "    <path d=\"M18.56 5.44l.94 2.06.94-2.06 2.06-.94-2.06-.94-.94-2.06-.94 2.06-2.06.94zm-11 1L8.5 8.5l.94-2.06 2.06-.94-2.06-.94L8.5 2.5l-.94 2.06-2.06.94zm10 10l.94 2.06.94-2.06 2.06-.94-2.06-.94-.94-2.06-.94 2.06-2.06.94z\"/><path d=\"M17.41 7.96l-1.37-1.37c-.4-.4-.92-.59-1.43-.59-.52 0-1.04.2-1.43.59L10.3 9.45l-7.72 7.72c-.78.78-.78 2.05 0 2.83L4 21.41c.39.39.9.59 1.41.59.51 0 1.02-.2 1.41-.59l7.78-7.78 2.81-2.81c.8-.78.8-2.07 0-2.86zM5.41 20L4 18.59l7.72-7.72 1.47 1.35L5.41 20z\"/>\n",
              "  </svg>\n",
              "      </button>\n",
              "      \n",
              "  <style>\n",
              "    .colab-df-container {\n",
              "      display:flex;\n",
              "      flex-wrap:wrap;\n",
              "      gap: 12px;\n",
              "    }\n",
              "\n",
              "    .colab-df-convert {\n",
              "      background-color: #E8F0FE;\n",
              "      border: none;\n",
              "      border-radius: 50%;\n",
              "      cursor: pointer;\n",
              "      display: none;\n",
              "      fill: #1967D2;\n",
              "      height: 32px;\n",
              "      padding: 0 0 0 0;\n",
              "      width: 32px;\n",
              "    }\n",
              "\n",
              "    .colab-df-convert:hover {\n",
              "      background-color: #E2EBFA;\n",
              "      box-shadow: 0px 1px 2px rgba(60, 64, 67, 0.3), 0px 1px 3px 1px rgba(60, 64, 67, 0.15);\n",
              "      fill: #174EA6;\n",
              "    }\n",
              "\n",
              "    [theme=dark] .colab-df-convert {\n",
              "      background-color: #3B4455;\n",
              "      fill: #D2E3FC;\n",
              "    }\n",
              "\n",
              "    [theme=dark] .colab-df-convert:hover {\n",
              "      background-color: #434B5C;\n",
              "      box-shadow: 0px 1px 3px 1px rgba(0, 0, 0, 0.15);\n",
              "      filter: drop-shadow(0px 1px 2px rgba(0, 0, 0, 0.3));\n",
              "      fill: #FFFFFF;\n",
              "    }\n",
              "  </style>\n",
              "\n",
              "      <script>\n",
              "        const buttonEl =\n",
              "          document.querySelector('#df-9c9e2e77-d45d-4008-95ca-562f1dbf95b8 button.colab-df-convert');\n",
              "        buttonEl.style.display =\n",
              "          google.colab.kernel.accessAllowed ? 'block' : 'none';\n",
              "\n",
              "        async function convertToInteractive(key) {\n",
              "          const element = document.querySelector('#df-9c9e2e77-d45d-4008-95ca-562f1dbf95b8');\n",
              "          const dataTable =\n",
              "            await google.colab.kernel.invokeFunction('convertToInteractive',\n",
              "                                                     [key], {});\n",
              "          if (!dataTable) return;\n",
              "\n",
              "          const docLinkHtml = 'Like what you see? Visit the ' +\n",
              "            '<a target=\"_blank\" href=https://colab.research.google.com/notebooks/data_table.ipynb>data table notebook</a>'\n",
              "            + ' to learn more about interactive tables.';\n",
              "          element.innerHTML = '';\n",
              "          dataTable['output_type'] = 'display_data';\n",
              "          await google.colab.output.renderOutput(dataTable, element);\n",
              "          const docLink = document.createElement('div');\n",
              "          docLink.innerHTML = docLinkHtml;\n",
              "          element.appendChild(docLink);\n",
              "        }\n",
              "      </script>\n",
              "    </div>\n",
              "  </div>\n",
              "  "
            ]
          },
          "metadata": {},
          "execution_count": 79
        }
      ]
    },
    {
      "cell_type": "code",
      "source": [
        "from sklearn.preprocessing import MinMaxScaler\n",
        "scaler = MinMaxScaler(feature_range=(0,1))"
      ],
      "metadata": {
        "id": "oicpzuYxPb5U"
      },
      "execution_count": null,
      "outputs": []
    },
    {
      "cell_type": "code",
      "source": [
        "data_training_array = scaler.fit_transform(data_training)\n",
        "data_training_array"
      ],
      "metadata": {
        "colab": {
          "base_uri": "https://localhost:8080/"
        },
        "id": "Z9zXMZ5oNeIE",
        "outputId": "f16915e3-2fc2-4877-bb1e-d2fafb518d5b"
      },
      "execution_count": null,
      "outputs": [
        {
          "output_type": "execute_result",
          "data": {
            "text/plain": [
              "array([[6.98160664e-04],\n",
              "       [6.31920202e-04],\n",
              "       [6.52299350e-04],\n",
              "       ...,\n",
              "       [9.06938601e-01],\n",
              "       [9.09366610e-01],\n",
              "       [9.10228223e-01]])"
            ]
          },
          "metadata": {},
          "execution_count": 82
        }
      ]
    },
    {
      "cell_type": "code",
      "source": [
        "data_training_array.shape"
      ],
      "metadata": {
        "colab": {
          "base_uri": "https://localhost:8080/"
        },
        "id": "lPMix8E9SnSz",
        "outputId": "3280ffc7-df20-43e6-ec10-c3fc29586143"
      },
      "execution_count": null,
      "outputs": [
        {
          "output_type": "execute_result",
          "data": {
            "text/plain": [
              "(3525, 1)"
            ]
          },
          "metadata": {},
          "execution_count": 83
        }
      ]
    },
    {
      "cell_type": "code",
      "source": [
        "x_train = []\n",
        "y_train = []\n",
        "\n",
        "for i in range(100,data_training_array.shape[0]):\n",
        "  x_train.append(data_training_array[i-100 :i])\n",
        "  y_train.append(data_training_array[i,0])\n",
        "\n",
        "x_train, y_train = np.array(x_train), np.array(y_train)"
      ],
      "metadata": {
        "id": "uL32WYL6Rkdd"
      },
      "execution_count": null,
      "outputs": []
    },
    {
      "cell_type": "code",
      "source": [
        "# Machine learning model"
      ],
      "metadata": {
        "id": "Rz8QQtygRkgj"
      },
      "execution_count": null,
      "outputs": []
    },
    {
      "cell_type": "code",
      "source": [
        "from keras.layers import Dense, Dropout, LSTM\n",
        "from keras.models import Sequential"
      ],
      "metadata": {
        "id": "rycVjkEgRkkC"
      },
      "execution_count": null,
      "outputs": []
    },
    {
      "cell_type": "code",
      "source": [
        "model = Sequential()\n",
        "model.add(LSTM(units = 50, activation = 'relu', return_sequences= True,input_shape = (x_train.shape[1], 1)))\n",
        "model.add(Dropout(0.2))\n",
        "\n",
        "\n",
        "model.add(LSTM(units = 60, activation = 'relu', return_sequences= True))\n",
        "model.add(Dropout(0.3))\n",
        "\n",
        "\n",
        "model.add(LSTM(units = 80, activation = 'relu', return_sequences= True))\n",
        "model.add(Dropout(0.4))\n",
        "\n",
        "\n",
        "model.add(LSTM(units = 120, activation = 'relu'))\n",
        "model.add(Dropout(0.5))\n",
        "\n",
        "model.add(Dense(units = 1))"
      ],
      "metadata": {
        "id": "Ip9VjGhuUTwq"
      },
      "execution_count": null,
      "outputs": []
    },
    {
      "cell_type": "code",
      "source": [
        "model.summary()"
      ],
      "metadata": {
        "colab": {
          "base_uri": "https://localhost:8080/"
        },
        "id": "a4e0ILRqUT0i",
        "outputId": "e2c0c863-0f78-4349-86b8-2568e1566386"
      },
      "execution_count": null,
      "outputs": [
        {
          "output_type": "stream",
          "name": "stdout",
          "text": [
            "Model: \"sequential_4\"\n",
            "_________________________________________________________________\n",
            " Layer (type)                Output Shape              Param #   \n",
            "=================================================================\n",
            " lstm_1 (LSTM)               (None, 100, 50)           10400     \n",
            "                                                                 \n",
            " dropout (Dropout)           (None, 100, 50)           0         \n",
            "                                                                 \n",
            " lstm_2 (LSTM)               (None, 100, 60)           26640     \n",
            "                                                                 \n",
            " dropout_1 (Dropout)         (None, 100, 60)           0         \n",
            "                                                                 \n",
            " lstm_3 (LSTM)               (None, 100, 80)           45120     \n",
            "                                                                 \n",
            " dropout_2 (Dropout)         (None, 100, 80)           0         \n",
            "                                                                 \n",
            " lstm_4 (LSTM)               (None, 120)               96480     \n",
            "                                                                 \n",
            " dropout_3 (Dropout)         (None, 120)               0         \n",
            "                                                                 \n",
            " dense (Dense)               (None, 1)                 121       \n",
            "                                                                 \n",
            "=================================================================\n",
            "Total params: 178,761\n",
            "Trainable params: 178,761\n",
            "Non-trainable params: 0\n",
            "_________________________________________________________________\n"
          ]
        }
      ]
    },
    {
      "cell_type": "code",
      "source": [
        "model.compile(optimizer='adam', loss = 'mean_squared_error')\n",
        "model.fit(x_train, y_train, epochs= 50)"
      ],
      "metadata": {
        "colab": {
          "base_uri": "https://localhost:8080/"
        },
        "id": "TA41TXTPUT4M",
        "outputId": "4872d602-99cb-4d60-cf53-be466a381ad5"
      },
      "execution_count": null,
      "outputs": [
        {
          "output_type": "stream",
          "name": "stdout",
          "text": [
            "Epoch 1/50\n",
            "108/108 [==============================] - 42s 331ms/step - loss: 0.0283\n",
            "Epoch 2/50\n",
            "108/108 [==============================] - 35s 324ms/step - loss: 0.0076\n",
            "Epoch 3/50\n",
            "108/108 [==============================] - 36s 337ms/step - loss: 0.0058\n",
            "Epoch 4/50\n",
            "108/108 [==============================] - 34s 312ms/step - loss: 0.0069\n",
            "Epoch 5/50\n",
            "108/108 [==============================] - 34s 312ms/step - loss: 0.0049\n",
            "Epoch 6/50\n",
            "108/108 [==============================] - 34s 319ms/step - loss: 0.0042\n",
            "Epoch 7/50\n",
            "108/108 [==============================] - 33s 308ms/step - loss: 0.0044\n",
            "Epoch 8/50\n",
            "108/108 [==============================] - 35s 323ms/step - loss: 0.0041\n",
            "Epoch 9/50\n",
            "108/108 [==============================] - 34s 318ms/step - loss: 0.0036\n",
            "Epoch 10/50\n",
            "108/108 [==============================] - 34s 314ms/step - loss: 0.0035\n",
            "Epoch 11/50\n",
            "108/108 [==============================] - 34s 312ms/step - loss: 0.0033\n",
            "Epoch 12/50\n",
            "108/108 [==============================] - 33s 308ms/step - loss: 0.0036\n",
            "Epoch 13/50\n",
            "108/108 [==============================] - 35s 320ms/step - loss: 0.0033\n",
            "Epoch 14/50\n",
            "108/108 [==============================] - 33s 309ms/step - loss: 0.0033\n",
            "Epoch 15/50\n",
            "108/108 [==============================] - 33s 308ms/step - loss: 0.0031\n",
            "Epoch 16/50\n",
            "108/108 [==============================] - 33s 308ms/step - loss: 0.0031\n",
            "Epoch 17/50\n",
            "108/108 [==============================] - 33s 309ms/step - loss: 0.0026\n",
            "Epoch 18/50\n",
            "108/108 [==============================] - 36s 333ms/step - loss: 0.0043\n",
            "Epoch 19/50\n",
            "108/108 [==============================] - 35s 328ms/step - loss: 0.0030\n",
            "Epoch 20/50\n",
            "108/108 [==============================] - 33s 309ms/step - loss: 0.0030\n",
            "Epoch 21/50\n",
            "108/108 [==============================] - 33s 309ms/step - loss: 0.0027\n",
            "Epoch 22/50\n",
            "108/108 [==============================] - 33s 309ms/step - loss: 0.0027\n",
            "Epoch 23/50\n",
            "108/108 [==============================] - 35s 321ms/step - loss: 0.0034\n",
            "Epoch 24/50\n",
            "108/108 [==============================] - 33s 308ms/step - loss: 0.0028\n",
            "Epoch 25/50\n",
            "108/108 [==============================] - 33s 308ms/step - loss: 0.0026\n",
            "Epoch 26/50\n",
            "108/108 [==============================] - 33s 307ms/step - loss: 0.0027\n",
            "Epoch 27/50\n",
            "108/108 [==============================] - 33s 307ms/step - loss: 0.0029\n",
            "Epoch 28/50\n",
            "108/108 [==============================] - 34s 312ms/step - loss: 0.0029\n",
            "Epoch 29/50\n",
            "108/108 [==============================] - 34s 315ms/step - loss: 0.0027\n",
            "Epoch 30/50\n",
            "108/108 [==============================] - 33s 308ms/step - loss: 0.0026\n",
            "Epoch 31/50\n",
            "108/108 [==============================] - 33s 308ms/step - loss: 0.0027\n",
            "Epoch 32/50\n",
            "108/108 [==============================] - 34s 310ms/step - loss: 0.0026\n",
            "Epoch 33/50\n",
            "108/108 [==============================] - 34s 312ms/step - loss: 0.0025\n",
            "Epoch 34/50\n",
            "108/108 [==============================] - 34s 319ms/step - loss: 0.0026\n",
            "Epoch 35/50\n",
            "108/108 [==============================] - 36s 337ms/step - loss: 0.0030\n",
            "Epoch 36/50\n",
            "108/108 [==============================] - 33s 307ms/step - loss: 0.0024\n",
            "Epoch 37/50\n",
            "108/108 [==============================] - 33s 308ms/step - loss: 0.0025\n",
            "Epoch 38/50\n",
            "108/108 [==============================] - 33s 308ms/step - loss: 0.0025\n",
            "Epoch 39/50\n",
            "108/108 [==============================] - 35s 323ms/step - loss: 0.0024\n",
            "Epoch 40/50\n",
            "108/108 [==============================] - 33s 308ms/step - loss: 0.0035\n",
            "Epoch 41/50\n",
            "108/108 [==============================] - 34s 310ms/step - loss: 0.0023\n",
            "Epoch 42/50\n",
            "108/108 [==============================] - 34s 310ms/step - loss: 0.0027\n",
            "Epoch 43/50\n",
            "108/108 [==============================] - 33s 306ms/step - loss: 0.0029\n",
            "Epoch 44/50\n",
            "108/108 [==============================] - 35s 321ms/step - loss: 0.0026\n",
            "Epoch 45/50\n",
            "108/108 [==============================] - 33s 309ms/step - loss: 0.0024\n",
            "Epoch 46/50\n",
            "108/108 [==============================] - 33s 308ms/step - loss: 0.0025\n",
            "Epoch 47/50\n",
            "108/108 [==============================] - 33s 307ms/step - loss: 0.0026\n",
            "Epoch 48/50\n",
            "108/108 [==============================] - 33s 310ms/step - loss: 0.0025\n",
            "Epoch 49/50\n",
            "108/108 [==============================] - 35s 322ms/step - loss: 0.0025\n",
            "Epoch 50/50\n",
            "108/108 [==============================] - 33s 310ms/step - loss: 0.0024\n"
          ]
        },
        {
          "output_type": "execute_result",
          "data": {
            "text/plain": [
              "<keras.callbacks.History at 0x7fd4175ad7f0>"
            ]
          },
          "metadata": {},
          "execution_count": 96
        }
      ]
    },
    {
      "cell_type": "code",
      "source": [
        "model.save('keras_model.h5')"
      ],
      "metadata": {
        "id": "HNhFsn3tRknj"
      },
      "execution_count": null,
      "outputs": []
    },
    {
      "cell_type": "code",
      "source": [
        "data_training.tail(100)"
      ],
      "metadata": {
        "colab": {
          "base_uri": "https://localhost:8080/",
          "height": 455
        },
        "id": "5u4JlIK5d3uK",
        "outputId": "8bb0bc47-f4c4-4ff6-c45e-5a3b18bb0816"
      },
      "execution_count": null,
      "outputs": [
        {
          "output_type": "execute_result",
          "data": {
            "text/plain": [
              "                               Close\n",
              "Date                                \n",
              "2016-08-02 00:00:00-04:00  24.188517\n",
              "2016-08-03 00:00:00-04:00  24.491796\n",
              "2016-08-04 00:00:00-04:00  24.643099\n",
              "2016-08-05 00:00:00-04:00  25.017855\n",
              "2016-08-08 00:00:00-04:00  25.225012\n",
              "...                              ...\n",
              "2016-12-15 00:00:00-05:00  27.097548\n",
              "2016-12-16 00:00:00-05:00  27.132639\n",
              "2016-12-19 00:00:00-05:00  27.289400\n",
              "2016-12-20 00:00:00-05:00  27.361923\n",
              "2016-12-21 00:00:00-05:00  27.387659\n",
              "\n",
              "[100 rows x 1 columns]"
            ],
            "text/html": [
              "\n",
              "  <div id=\"df-aec1c8be-023a-42a6-96aa-3b1546f58bb5\">\n",
              "    <div class=\"colab-df-container\">\n",
              "      <div>\n",
              "<style scoped>\n",
              "    .dataframe tbody tr th:only-of-type {\n",
              "        vertical-align: middle;\n",
              "    }\n",
              "\n",
              "    .dataframe tbody tr th {\n",
              "        vertical-align: top;\n",
              "    }\n",
              "\n",
              "    .dataframe thead th {\n",
              "        text-align: right;\n",
              "    }\n",
              "</style>\n",
              "<table border=\"1\" class=\"dataframe\">\n",
              "  <thead>\n",
              "    <tr style=\"text-align: right;\">\n",
              "      <th></th>\n",
              "      <th>Close</th>\n",
              "    </tr>\n",
              "    <tr>\n",
              "      <th>Date</th>\n",
              "      <th></th>\n",
              "    </tr>\n",
              "  </thead>\n",
              "  <tbody>\n",
              "    <tr>\n",
              "      <th>2016-08-02 00:00:00-04:00</th>\n",
              "      <td>24.188517</td>\n",
              "    </tr>\n",
              "    <tr>\n",
              "      <th>2016-08-03 00:00:00-04:00</th>\n",
              "      <td>24.491796</td>\n",
              "    </tr>\n",
              "    <tr>\n",
              "      <th>2016-08-04 00:00:00-04:00</th>\n",
              "      <td>24.643099</td>\n",
              "    </tr>\n",
              "    <tr>\n",
              "      <th>2016-08-05 00:00:00-04:00</th>\n",
              "      <td>25.017855</td>\n",
              "    </tr>\n",
              "    <tr>\n",
              "      <th>2016-08-08 00:00:00-04:00</th>\n",
              "      <td>25.225012</td>\n",
              "    </tr>\n",
              "    <tr>\n",
              "      <th>...</th>\n",
              "      <td>...</td>\n",
              "    </tr>\n",
              "    <tr>\n",
              "      <th>2016-12-15 00:00:00-05:00</th>\n",
              "      <td>27.097548</td>\n",
              "    </tr>\n",
              "    <tr>\n",
              "      <th>2016-12-16 00:00:00-05:00</th>\n",
              "      <td>27.132639</td>\n",
              "    </tr>\n",
              "    <tr>\n",
              "      <th>2016-12-19 00:00:00-05:00</th>\n",
              "      <td>27.289400</td>\n",
              "    </tr>\n",
              "    <tr>\n",
              "      <th>2016-12-20 00:00:00-05:00</th>\n",
              "      <td>27.361923</td>\n",
              "    </tr>\n",
              "    <tr>\n",
              "      <th>2016-12-21 00:00:00-05:00</th>\n",
              "      <td>27.387659</td>\n",
              "    </tr>\n",
              "  </tbody>\n",
              "</table>\n",
              "<p>100 rows × 1 columns</p>\n",
              "</div>\n",
              "      <button class=\"colab-df-convert\" onclick=\"convertToInteractive('df-aec1c8be-023a-42a6-96aa-3b1546f58bb5')\"\n",
              "              title=\"Convert this dataframe to an interactive table.\"\n",
              "              style=\"display:none;\">\n",
              "        \n",
              "  <svg xmlns=\"http://www.w3.org/2000/svg\" height=\"24px\"viewBox=\"0 0 24 24\"\n",
              "       width=\"24px\">\n",
              "    <path d=\"M0 0h24v24H0V0z\" fill=\"none\"/>\n",
              "    <path d=\"M18.56 5.44l.94 2.06.94-2.06 2.06-.94-2.06-.94-.94-2.06-.94 2.06-2.06.94zm-11 1L8.5 8.5l.94-2.06 2.06-.94-2.06-.94L8.5 2.5l-.94 2.06-2.06.94zm10 10l.94 2.06.94-2.06 2.06-.94-2.06-.94-.94-2.06-.94 2.06-2.06.94z\"/><path d=\"M17.41 7.96l-1.37-1.37c-.4-.4-.92-.59-1.43-.59-.52 0-1.04.2-1.43.59L10.3 9.45l-7.72 7.72c-.78.78-.78 2.05 0 2.83L4 21.41c.39.39.9.59 1.41.59.51 0 1.02-.2 1.41-.59l7.78-7.78 2.81-2.81c.8-.78.8-2.07 0-2.86zM5.41 20L4 18.59l7.72-7.72 1.47 1.35L5.41 20z\"/>\n",
              "  </svg>\n",
              "      </button>\n",
              "      \n",
              "  <style>\n",
              "    .colab-df-container {\n",
              "      display:flex;\n",
              "      flex-wrap:wrap;\n",
              "      gap: 12px;\n",
              "    }\n",
              "\n",
              "    .colab-df-convert {\n",
              "      background-color: #E8F0FE;\n",
              "      border: none;\n",
              "      border-radius: 50%;\n",
              "      cursor: pointer;\n",
              "      display: none;\n",
              "      fill: #1967D2;\n",
              "      height: 32px;\n",
              "      padding: 0 0 0 0;\n",
              "      width: 32px;\n",
              "    }\n",
              "\n",
              "    .colab-df-convert:hover {\n",
              "      background-color: #E2EBFA;\n",
              "      box-shadow: 0px 1px 2px rgba(60, 64, 67, 0.3), 0px 1px 3px 1px rgba(60, 64, 67, 0.15);\n",
              "      fill: #174EA6;\n",
              "    }\n",
              "\n",
              "    [theme=dark] .colab-df-convert {\n",
              "      background-color: #3B4455;\n",
              "      fill: #D2E3FC;\n",
              "    }\n",
              "\n",
              "    [theme=dark] .colab-df-convert:hover {\n",
              "      background-color: #434B5C;\n",
              "      box-shadow: 0px 1px 3px 1px rgba(0, 0, 0, 0.15);\n",
              "      filter: drop-shadow(0px 1px 2px rgba(0, 0, 0, 0.3));\n",
              "      fill: #FFFFFF;\n",
              "    }\n",
              "  </style>\n",
              "\n",
              "      <script>\n",
              "        const buttonEl =\n",
              "          document.querySelector('#df-aec1c8be-023a-42a6-96aa-3b1546f58bb5 button.colab-df-convert');\n",
              "        buttonEl.style.display =\n",
              "          google.colab.kernel.accessAllowed ? 'block' : 'none';\n",
              "\n",
              "        async function convertToInteractive(key) {\n",
              "          const element = document.querySelector('#df-aec1c8be-023a-42a6-96aa-3b1546f58bb5');\n",
              "          const dataTable =\n",
              "            await google.colab.kernel.invokeFunction('convertToInteractive',\n",
              "                                                     [key], {});\n",
              "          if (!dataTable) return;\n",
              "\n",
              "          const docLinkHtml = 'Like what you see? Visit the ' +\n",
              "            '<a target=\"_blank\" href=https://colab.research.google.com/notebooks/data_table.ipynb>data table notebook</a>'\n",
              "            + ' to learn more about interactive tables.';\n",
              "          element.innerHTML = '';\n",
              "          dataTable['output_type'] = 'display_data';\n",
              "          await google.colab.output.renderOutput(dataTable, element);\n",
              "          const docLink = document.createElement('div');\n",
              "          docLink.innerHTML = docLinkHtml;\n",
              "          element.appendChild(docLink);\n",
              "        }\n",
              "      </script>\n",
              "    </div>\n",
              "  </div>\n",
              "  "
            ]
          },
          "metadata": {},
          "execution_count": 99
        }
      ]
    },
    {
      "cell_type": "code",
      "source": [
        "past_100_days = data_training.tail(100)"
      ],
      "metadata": {
        "id": "mF-JE6E4drq5"
      },
      "execution_count": null,
      "outputs": []
    },
    {
      "cell_type": "code",
      "source": [
        "final_df = past_100_days.append(data_testing, ignore_index=True)"
      ],
      "metadata": {
        "id": "-HkvWG5xdruE"
      },
      "execution_count": null,
      "outputs": []
    },
    {
      "cell_type": "code",
      "source": [
        "final_df.head()"
      ],
      "metadata": {
        "colab": {
          "base_uri": "https://localhost:8080/",
          "height": 206
        },
        "id": "glO6X05XeXhV",
        "outputId": "a4f262a5-aee4-4b14-df8b-9d193fd91621"
      },
      "execution_count": null,
      "outputs": [
        {
          "output_type": "execute_result",
          "data": {
            "text/plain": [
              "       Close\n",
              "0  24.188517\n",
              "1  24.491796\n",
              "2  24.643099\n",
              "3  25.017855\n",
              "4  25.225012"
            ],
            "text/html": [
              "\n",
              "  <div id=\"df-791d6897-4290-477a-8d0b-97bf88fc6d01\">\n",
              "    <div class=\"colab-df-container\">\n",
              "      <div>\n",
              "<style scoped>\n",
              "    .dataframe tbody tr th:only-of-type {\n",
              "        vertical-align: middle;\n",
              "    }\n",
              "\n",
              "    .dataframe tbody tr th {\n",
              "        vertical-align: top;\n",
              "    }\n",
              "\n",
              "    .dataframe thead th {\n",
              "        text-align: right;\n",
              "    }\n",
              "</style>\n",
              "<table border=\"1\" class=\"dataframe\">\n",
              "  <thead>\n",
              "    <tr style=\"text-align: right;\">\n",
              "      <th></th>\n",
              "      <th>Close</th>\n",
              "    </tr>\n",
              "  </thead>\n",
              "  <tbody>\n",
              "    <tr>\n",
              "      <th>0</th>\n",
              "      <td>24.188517</td>\n",
              "    </tr>\n",
              "    <tr>\n",
              "      <th>1</th>\n",
              "      <td>24.491796</td>\n",
              "    </tr>\n",
              "    <tr>\n",
              "      <th>2</th>\n",
              "      <td>24.643099</td>\n",
              "    </tr>\n",
              "    <tr>\n",
              "      <th>3</th>\n",
              "      <td>25.017855</td>\n",
              "    </tr>\n",
              "    <tr>\n",
              "      <th>4</th>\n",
              "      <td>25.225012</td>\n",
              "    </tr>\n",
              "  </tbody>\n",
              "</table>\n",
              "</div>\n",
              "      <button class=\"colab-df-convert\" onclick=\"convertToInteractive('df-791d6897-4290-477a-8d0b-97bf88fc6d01')\"\n",
              "              title=\"Convert this dataframe to an interactive table.\"\n",
              "              style=\"display:none;\">\n",
              "        \n",
              "  <svg xmlns=\"http://www.w3.org/2000/svg\" height=\"24px\"viewBox=\"0 0 24 24\"\n",
              "       width=\"24px\">\n",
              "    <path d=\"M0 0h24v24H0V0z\" fill=\"none\"/>\n",
              "    <path d=\"M18.56 5.44l.94 2.06.94-2.06 2.06-.94-2.06-.94-.94-2.06-.94 2.06-2.06.94zm-11 1L8.5 8.5l.94-2.06 2.06-.94-2.06-.94L8.5 2.5l-.94 2.06-2.06.94zm10 10l.94 2.06.94-2.06 2.06-.94-2.06-.94-.94-2.06-.94 2.06-2.06.94z\"/><path d=\"M17.41 7.96l-1.37-1.37c-.4-.4-.92-.59-1.43-.59-.52 0-1.04.2-1.43.59L10.3 9.45l-7.72 7.72c-.78.78-.78 2.05 0 2.83L4 21.41c.39.39.9.59 1.41.59.51 0 1.02-.2 1.41-.59l7.78-7.78 2.81-2.81c.8-.78.8-2.07 0-2.86zM5.41 20L4 18.59l7.72-7.72 1.47 1.35L5.41 20z\"/>\n",
              "  </svg>\n",
              "      </button>\n",
              "      \n",
              "  <style>\n",
              "    .colab-df-container {\n",
              "      display:flex;\n",
              "      flex-wrap:wrap;\n",
              "      gap: 12px;\n",
              "    }\n",
              "\n",
              "    .colab-df-convert {\n",
              "      background-color: #E8F0FE;\n",
              "      border: none;\n",
              "      border-radius: 50%;\n",
              "      cursor: pointer;\n",
              "      display: none;\n",
              "      fill: #1967D2;\n",
              "      height: 32px;\n",
              "      padding: 0 0 0 0;\n",
              "      width: 32px;\n",
              "    }\n",
              "\n",
              "    .colab-df-convert:hover {\n",
              "      background-color: #E2EBFA;\n",
              "      box-shadow: 0px 1px 2px rgba(60, 64, 67, 0.3), 0px 1px 3px 1px rgba(60, 64, 67, 0.15);\n",
              "      fill: #174EA6;\n",
              "    }\n",
              "\n",
              "    [theme=dark] .colab-df-convert {\n",
              "      background-color: #3B4455;\n",
              "      fill: #D2E3FC;\n",
              "    }\n",
              "\n",
              "    [theme=dark] .colab-df-convert:hover {\n",
              "      background-color: #434B5C;\n",
              "      box-shadow: 0px 1px 3px 1px rgba(0, 0, 0, 0.15);\n",
              "      filter: drop-shadow(0px 1px 2px rgba(0, 0, 0, 0.3));\n",
              "      fill: #FFFFFF;\n",
              "    }\n",
              "  </style>\n",
              "\n",
              "      <script>\n",
              "        const buttonEl =\n",
              "          document.querySelector('#df-791d6897-4290-477a-8d0b-97bf88fc6d01 button.colab-df-convert');\n",
              "        buttonEl.style.display =\n",
              "          google.colab.kernel.accessAllowed ? 'block' : 'none';\n",
              "\n",
              "        async function convertToInteractive(key) {\n",
              "          const element = document.querySelector('#df-791d6897-4290-477a-8d0b-97bf88fc6d01');\n",
              "          const dataTable =\n",
              "            await google.colab.kernel.invokeFunction('convertToInteractive',\n",
              "                                                     [key], {});\n",
              "          if (!dataTable) return;\n",
              "\n",
              "          const docLinkHtml = 'Like what you see? Visit the ' +\n",
              "            '<a target=\"_blank\" href=https://colab.research.google.com/notebooks/data_table.ipynb>data table notebook</a>'\n",
              "            + ' to learn more about interactive tables.';\n",
              "          element.innerHTML = '';\n",
              "          dataTable['output_type'] = 'display_data';\n",
              "          await google.colab.output.renderOutput(dataTable, element);\n",
              "          const docLink = document.createElement('div');\n",
              "          docLink.innerHTML = docLinkHtml;\n",
              "          element.appendChild(docLink);\n",
              "        }\n",
              "      </script>\n",
              "    </div>\n",
              "  </div>\n",
              "  "
            ]
          },
          "metadata": {},
          "execution_count": 102
        }
      ]
    },
    {
      "cell_type": "code",
      "source": [
        "input_data = scaler.fit_transform(final_df)\n",
        "input_data"
      ],
      "metadata": {
        "colab": {
          "base_uri": "https://localhost:8080/"
        },
        "id": "8uwZgw_Idrxn",
        "outputId": "f8810624-f076-4c52-b1ce-885de033b7a1"
      },
      "execution_count": null,
      "outputs": [
        {
          "output_type": "execute_result",
          "data": {
            "text/plain": [
              "array([[0.00116726],\n",
              "       [0.00309954],\n",
              "       [0.00406353],\n",
              "       ...,\n",
              "       [0.68997542],\n",
              "       [0.7100449 ],\n",
              "       [0.68067331]])"
            ]
          },
          "metadata": {},
          "execution_count": 104
        }
      ]
    },
    {
      "cell_type": "code",
      "source": [
        "input_data.shape"
      ],
      "metadata": {
        "colab": {
          "base_uri": "https://localhost:8080/"
        },
        "id": "3Da87zQ5eti0",
        "outputId": "a08487a2-fcf6-47fb-fc95-0e1399817d09"
      },
      "execution_count": null,
      "outputs": [
        {
          "output_type": "execute_result",
          "data": {
            "text/plain": [
              "(1611, 1)"
            ]
          },
          "metadata": {},
          "execution_count": 105
        }
      ]
    },
    {
      "cell_type": "code",
      "source": [
        "x_test = []\n",
        "y_test = []\n",
        "\n",
        "for i in range(100, input_data.shape[0]):\n",
        "  x_test.append(input_data[i-100 :i])\n",
        "  y_test.append(input_data[i, 0])"
      ],
      "metadata": {
        "id": "dgYhkhVPetu-"
      },
      "execution_count": null,
      "outputs": []
    },
    {
      "cell_type": "code",
      "source": [
        "x_test, y_test = np.array(x_test), np.array(y_test)\n",
        "print(x_test.shape)\n",
        "print(y_test.shape)\n"
      ],
      "metadata": {
        "colab": {
          "base_uri": "https://localhost:8080/"
        },
        "id": "wdFBcjllfSmI",
        "outputId": "332dbf3a-70b3-4080-edc7-d974087a08c9"
      },
      "execution_count": null,
      "outputs": [
        {
          "output_type": "stream",
          "name": "stdout",
          "text": [
            "(1511, 100, 1)\n",
            "(1511,)\n"
          ]
        }
      ]
    },
    {
      "cell_type": "code",
      "source": [
        "# making prediction\n",
        "\n",
        "y_predicted = model.predict(x_test)\n",
        "y_predicted.shape"
      ],
      "metadata": {
        "colab": {
          "base_uri": "https://localhost:8080/"
        },
        "id": "5suFzYbAfSpW",
        "outputId": "2e0ba700-70d5-4f49-b304-deac29a85b0a"
      },
      "execution_count": null,
      "outputs": [
        {
          "output_type": "stream",
          "name": "stdout",
          "text": [
            "48/48 [==============================] - 5s 90ms/step\n"
          ]
        },
        {
          "output_type": "execute_result",
          "data": {
            "text/plain": [
              "(1511, 1)"
            ]
          },
          "metadata": {},
          "execution_count": 108
        }
      ]
    },
    {
      "cell_type": "code",
      "source": [
        "y_test"
      ],
      "metadata": {
        "colab": {
          "base_uri": "https://localhost:8080/"
        },
        "id": "NF_Gew2tfSs8",
        "outputId": "0d2c8d30-3772-4dcb-a947-ea8cfa9689c5"
      },
      "execution_count": null,
      "outputs": [
        {
          "output_type": "execute_result",
          "data": {
            "text/plain": [
              "array([0.02040209, 0.02074493, 0.02184804, ..., 0.68997542, 0.7100449 ,\n",
              "       0.68067331])"
            ]
          },
          "metadata": {},
          "execution_count": 109
        }
      ]
    },
    {
      "cell_type": "code",
      "source": [
        "y_predicted"
      ],
      "metadata": {
        "colab": {
          "base_uri": "https://localhost:8080/"
        },
        "id": "qskBpfyNf7jB",
        "outputId": "8e1c8951-f576-465f-f01d-a5a483f5f1f7"
      },
      "execution_count": null,
      "outputs": [
        {
          "output_type": "execute_result",
          "data": {
            "text/plain": [
              "array([[0.05230945],\n",
              "       [0.05250624],\n",
              "       [0.05271992],\n",
              "       ...,\n",
              "       [0.75165284],\n",
              "       [0.7432963 ],\n",
              "       [0.7336484 ]], dtype=float32)"
            ]
          },
          "metadata": {},
          "execution_count": 110
        }
      ]
    },
    {
      "cell_type": "code",
      "source": [
        "scaler.scale_"
      ],
      "metadata": {
        "colab": {
          "base_uri": "https://localhost:8080/"
        },
        "id": "FjySCeiqf_th",
        "outputId": "a5cd095f-874f-484b-aaf7-b7c5b8deed9c"
      },
      "execution_count": null,
      "outputs": [
        {
          "output_type": "execute_result",
          "data": {
            "text/plain": [
              "array([0.00637128])"
            ]
          },
          "metadata": {},
          "execution_count": 111
        }
      ]
    },
    {
      "cell_type": "code",
      "source": [
        "scale_factor = 1/0.00637128\n",
        "y_predicted = y_predicted * scale_factor\n",
        "y_test = y_test * scale_factor"
      ],
      "metadata": {
        "id": "s6WXm56jgJA7"
      },
      "execution_count": null,
      "outputs": []
    },
    {
      "cell_type": "code",
      "source": [
        "plt.figure(figsize=(12,6))\n",
        "plt.plot(y_test, 'b', label='Original Price')\n",
        "plt.plot(y_predicted, 'r', label='Predicted Price')\n",
        "plt.xlabel('Time')\n",
        "plt.ylabel('Price')\n",
        "plt.legend()\n",
        "plt.show()"
      ],
      "metadata": {
        "colab": {
          "base_uri": "https://localhost:8080/",
          "height": 340
        },
        "id": "dNTNrIw7ghUc",
        "outputId": "5e68bcb5-d3c0-44c8-e0c8-bfa058ac732a"
      },
      "execution_count": null,
      "outputs": [
        {
          "output_type": "display_data",
          "data": {
            "text/plain": [
              "<Figure size 864x432 with 1 Axes>"
            ],
            "image/png": "[encoded data removed]"
          },
          "metadata": {
            "needs_background": "light"
          }
        }
      ]
    },
    {
      "cell_type": "code",
      "source": [],
      "metadata": {
        "id": "XpsMPFA1ghX2"
      },
      "execution_count": null,
      "outputs": []
    },
    {
      "cell_type": "code",
      "source": [],
      "metadata": {
        "id": "SOcXGzvOf_wq"
      },
      "execution_count": null,
      "outputs": []
    },
    {
      "cell_type": "code",
      "source": [],
      "metadata": {
        "id": "ncikWhdof_0E"
      },
      "execution_count": null,
      "outputs": []
    }
  ]
}